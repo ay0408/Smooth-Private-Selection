{
 "cells": [
  {
   "cell_type": "code",
   "execution_count": 1,
   "metadata": {},
   "outputs": [],
   "source": [
    "import numpy as np\n",
    "import math\n",
    "from sympy import *\n",
    "from scipy import integrate\n",
    "import matplotlib.pyplot as plt\n",
    "import random\n",
    "import time"
   ]
  },
  {
   "cell_type": "code",
   "execution_count": 2,
   "metadata": {},
   "outputs": [],
   "source": [
    "def TDT(b,c):\n",
    "    if b+c == 0:\n",
    "        return 0\n",
    "    else:\n",
    "        return ((b-c)**2)/(b+c)"
   ]
  },
  {
   "cell_type": "code",
   "execution_count": 3,
   "metadata": {},
   "outputs": [],
   "source": [
    "def LS(b,c,N): #local sensitivity\n",
    "    stat = TDT(b,c)\n",
    "    M = stat; m = stat\n",
    "    \n",
    "    if b >= 2:\n",
    "        v = [TDT(b-2,c), TDT(b-2,c+1), TDT(b-2,c+2)]\n",
    "        M = max([max(v),M])\n",
    "        m = min([min(v),m])\n",
    "    if b >= 1:\n",
    "        v = [TDT(b-1,c), TDT(b-1,c+1)]\n",
    "        M = max([max(v),M])\n",
    "        m = min([min(v),m])\n",
    "    if b >= 1 and c >= 1:\n",
    "        v = TDT(b-1,c-1)\n",
    "        M = max([v,M])\n",
    "        m = min([v,m])\n",
    "    if c >= 2:\n",
    "        v = [TDT(b+2,c-2), TDT(b+1,c-2), TDT(b+2,c-2)]\n",
    "        M = max([max(v),M])\n",
    "        m = min([min(v),m])\n",
    "    if c >= 1:\n",
    "        v = [TDT(b,c-1), TDT(b+1,c-1)]\n",
    "        M = max([max(v),M])\n",
    "        m = min([min(v),m])\n",
    "    if b+c <= 2*N-2:\n",
    "        v = [TDT(b+1,c+1), TDT(b,c+2), TDT(b+2,c)]\n",
    "        M = max([max(v),M])\n",
    "        m = min([min(v),m])\n",
    "    if b+c <= 2*N-1:\n",
    "        v = [TDT(b,c+1), TDT(b+1,c)]\n",
    "        M = max([max(v),M])\n",
    "        m = min([min(v),m])\n",
    "    if b+c <= 2*N-1 and b >= 1:\n",
    "        v = TDT(b-1,c+2)\n",
    "        M = max([v,M])\n",
    "        m = min([v,m])\n",
    "    if b+c <= 2*N-1 and c >= 1:\n",
    "        v = TDT(b+2,c-1)\n",
    "        M = max([v,M])\n",
    "        m = min([v,m])\n",
    "    \n",
    "    return max([M-stat, stat-m])"
   ]
  },
  {
   "cell_type": "code",
   "execution_count": 4,
   "metadata": {},
   "outputs": [],
   "source": [
    "def d(x,b,c):\n",
    "    if b >= x[0] and c >= x[1]:\n",
    "        return math.ceil(((b+c)-(x[0]+x[1]))/2)\n",
    "    elif b <= x[0] and c <= x[1]:\n",
    "        return math.ceil(((x[0]+x[1])-(b+c))/2)\n",
    "    else:\n",
    "        return math.ceil(max([math.fabs(b-x[0]), math.fabs(c-x[1])])/2)\n",
    "    \n",
    "def gd(x,N):\n",
    "    return min([d(x,0,2*N), d(x,2,2*N-2), d(x,2*N-2,2), d(x,2*N,0)])\n",
    "\n",
    "def ud(x,N): # T = 6\n",
    "    sd = 10000\n",
    "    for c in range(int(N/4)):\n",
    "        s = 9+7*c\n",
    "        for b in range(s,2*N-c+1):\n",
    "            sd = min([d(x,b,c),d(x,b-2,c+2),sd])\n",
    "    for b in range(int(N/4)):\n",
    "        s = 9+7*b\n",
    "        for c in range(s,2*N-b+1):\n",
    "            sd = min([d(x,b,c),d(x,b+2,c-2),sd])\n",
    "    return sd"
   ]
  },
  {
   "cell_type": "code",
   "execution_count": 5,
   "metadata": {},
   "outputs": [],
   "source": [
    "def RT_EM(x,eps,N,m): #exponential mechanism\n",
    "    start = time.time()\n",
    "    u = np.zeros(m); v = np.zeros(m)\n",
    "    eta = 2*(8*(N-1)/N)/eps\n",
    "    for i in range(m):\n",
    "        u[i] = TDT(x[i][0],x[i][1])\n",
    "        v[i] = u[i] + np.random.gumbel(0,eta,1)\n",
    "    a = np.argmax(v)\n",
    "    end = time.time()\n",
    "    return end-start\n",
    "\n",
    "def RT_PF(x,eps,N,m): #permute-and-flip\n",
    "    start = time.time()\n",
    "    u = np.zeros(m); v = np.zeros(m)\n",
    "    beta = 2*(8*(N-1)/N)/eps\n",
    "    for i in range(m):\n",
    "        u[i] = TDT(x[i][0],x[i][1])\n",
    "        v[i] = u[i] + np.random.exponential(beta,1)\n",
    "    a = np.argmax(v)\n",
    "    end = time.time()\n",
    "    return end-start"
   ]
  },
  {
   "cell_type": "code",
   "execution_count": 6,
   "metadata": {},
   "outputs": [],
   "source": [
    "def RT_SPS_g(x,eps,N,m,gamma): #Smooth Private Selection, gd(x) #N = 150, gamma = 2\n",
    "    start = time.time()\n",
    "    GS = 8*(N-1)/N; lbeta = math.log(GS/LS(0,299,N))/gd([0,299],N)\n",
    "    alpha = eps/(2*((gamma-1)**((gamma-1)/gamma)))\n",
    "    beta = eps/(2*(gamma-1)); lbeta = min(lbeta,beta/m)\n",
    "    k = 1 - m*lbeta/(2*beta)\n",
    "    u = np.zeros(m); v = np.zeros(m)\n",
    "    s = np.zeros(m)\n",
    "    \n",
    "    for i in range(m):\n",
    "        u[i] = TDT(x[i][0],x[i][1])\n",
    "        if gd(x[i],N) == 0:\n",
    "            s[i] = GS\n",
    "        else:\n",
    "            s[i] = GS*math.exp(-lbeta*gd(x[i],N))\n",
    "            \n",
    "    S = max(s)\n",
    "    for i in range(m):\n",
    "        v[i] = u[i] + (S/(k*alpha))*math.fabs(np.random.standard_cauchy(1))\n",
    "    \n",
    "    a = np.argmax(v)\n",
    "    end = time.time()\n",
    "    return end-start\n",
    "\n",
    "def RT_SPS_u(x,eps,N,m,gamma): #Smooth Private Selection, ud(x) #N = 150, gamma = 2\n",
    "    start = time.time()\n",
    "    GS = 8*(N-1)/N; lbeta = math.log(GS/LS(91,209,N))/ud([91,209],N)\n",
    "    alpha = eps/(2*((gamma-1)**((gamma-1)/gamma)))\n",
    "    beta = eps/(2*(gamma-1)); lbeta = min(lbeta,beta/m)\n",
    "    k = 1 - m*lbeta/(2*beta)\n",
    "    u = np.zeros(m); v = np.zeros(m)\n",
    "    s = np.zeros(m)\n",
    "    \n",
    "    for i in range(m):\n",
    "        u[i] = TDT(x[i][0],x[i][1])\n",
    "        if LS(x[i][0],x[i][1],N) > 6:\n",
    "            s[i] = GS\n",
    "        else:\n",
    "            s[i] = GS*math.exp(-lbeta*ud(x[i],N))\n",
    "            \n",
    "    S = max(s)\n",
    "    for i in range(m):\n",
    "        v[i] = u[i] + (S/(k*alpha))*math.fabs(np.random.standard_cauchy(1))\n",
    "    \n",
    "    a = np.argmax(v)\n",
    "    end = time.time()\n",
    "    return end-start"
   ]
  },
  {
   "cell_type": "code",
   "execution_count": 7,
   "metadata": {},
   "outputs": [],
   "source": [
    "def generateData(N):\n",
    "    d = np.zeros(2)\n",
    "    s = np.random.binomial(int(2*N),2/3)\n",
    "    d[0] = np.random.binomial(s,1/2)\n",
    "    d[1] = s-d[0]\n",
    "    return d"
   ]
  },
  {
   "cell_type": "code",
   "execution_count": 8,
   "metadata": {},
   "outputs": [
    {
     "name": "stdout",
     "output_type": "stream",
     "text": [
      "[1.53779984e-04 1.27553940e-04 4.64534760e-04 9.02041411e-01]\n"
     ]
    }
   ],
   "source": [
    "m = 20\n",
    "N = 150; eps = 10; gamma = 2\n",
    "\n",
    "x = np.zeros((m,2)); RT = np.zeros(4)\n",
    "\n",
    "for j in range(10):\n",
    "    for i in range(m):\n",
    "        x[i] = generateData(N)\n",
    "        \n",
    "    RT[0] += RT_EM(x,eps,N,m)\n",
    "    RT[1] += RT_PF(x,eps,N,m)\n",
    "    RT[2] += RT_SPS_g(x,eps,N,m,gamma)\n",
    "    RT[3] += RT_SPS_u(x,eps,N,m,gamma)\n",
    "\n",
    "print(RT/10)"
   ]
  },
  {
   "cell_type": "code",
   "execution_count": 9,
   "metadata": {},
   "outputs": [
    {
     "name": "stdout",
     "output_type": "stream",
     "text": [
      "[3.49736214e-04 3.17740440e-04 1.11136436e-03 2.22536867e+00]\n"
     ]
    }
   ],
   "source": [
    "m = 50\n",
    "N = 150; eps = 10; gamma = 2\n",
    "\n",
    "x = np.zeros((m,2)); RT = np.zeros(4)\n",
    "\n",
    "for j in range(10):\n",
    "    for i in range(m):\n",
    "        x[i] = generateData(N)\n",
    "        \n",
    "    RT[0] += RT_EM(x,eps,N,m)\n",
    "    RT[1] += RT_PF(x,eps,N,m)\n",
    "    RT[2] += RT_SPS_g(x,eps,N,m,gamma)\n",
    "    RT[3] += RT_SPS_u(x,eps,N,m,gamma)\n",
    "\n",
    "print(RT/10)"
   ]
  },
  {
   "cell_type": "code",
   "execution_count": 10,
   "metadata": {},
   "outputs": [
    {
     "name": "stdout",
     "output_type": "stream",
     "text": [
      "[6.58416748e-04 6.36601448e-04 2.27437019e-03 4.59477887e+00]\n"
     ]
    }
   ],
   "source": [
    "m = 100\n",
    "N = 150; eps = 10; gamma = 2\n",
    "\n",
    "x = np.zeros((m,2)); RT = np.zeros(4)\n",
    "\n",
    "for j in range(10):\n",
    "    for i in range(m):\n",
    "        x[i] = generateData(N)\n",
    "        \n",
    "    RT[0] += RT_EM(x,eps,N,m)\n",
    "    RT[1] += RT_PF(x,eps,N,m)\n",
    "    RT[2] += RT_SPS_g(x,eps,N,m,gamma)\n",
    "    RT[3] += RT_SPS_u(x,eps,N,m,gamma)\n",
    "\n",
    "print(RT/10)"
   ]
  },
  {
   "cell_type": "code",
   "execution_count": 11,
   "metadata": {},
   "outputs": [
    {
     "name": "stdout",
     "output_type": "stream",
     "text": [
      "[1.52311325e-03 1.37917995e-03 4.82895374e-03 1.00294551e+01]\n"
     ]
    }
   ],
   "source": [
    "m = 200\n",
    "N = 150; eps = 10; gamma = 2\n",
    "\n",
    "x = np.zeros((m,2)); RT = np.zeros(4)\n",
    "\n",
    "for j in range(10):\n",
    "    for i in range(m):\n",
    "        x[i] = generateData(N)\n",
    "        \n",
    "    RT[0] += RT_EM(x,eps,N,m)\n",
    "    RT[1] += RT_PF(x,eps,N,m)\n",
    "    RT[2] += RT_SPS_g(x,eps,N,m,gamma)\n",
    "    RT[3] += RT_SPS_u(x,eps,N,m,gamma)\n",
    "\n",
    "print(RT/10)"
   ]
  },
  {
   "cell_type": "code",
   "execution_count": 12,
   "metadata": {},
   "outputs": [
    {
     "name": "stdout",
     "output_type": "stream",
     "text": [
      "[3.35624218e-03 3.21173668e-03 1.05774641e-02 2.26949943e+01]\n"
     ]
    }
   ],
   "source": [
    "m = 500\n",
    "N = 150; eps = 10; gamma = 2\n",
    "\n",
    "x = np.zeros((m,2)); RT = np.zeros(4)\n",
    "\n",
    "for j in range(10):\n",
    "    for i in range(m):\n",
    "        x[i] = generateData(N)\n",
    "        \n",
    "    RT[0] += RT_EM(x,eps,N,m)\n",
    "    RT[1] += RT_PF(x,eps,N,m)\n",
    "    RT[2] += RT_SPS_g(x,eps,N,m,gamma)\n",
    "    RT[3] += RT_SPS_u(x,eps,N,m,gamma)\n",
    "\n",
    "print(RT/10)"
   ]
  },
  {
   "cell_type": "code",
   "execution_count": 13,
   "metadata": {},
   "outputs": [
    {
     "name": "stdout",
     "output_type": "stream",
     "text": [
      "[6.35015965e-03 6.27155304e-03 2.00849295e-02 4.30686604e+01]\n"
     ]
    }
   ],
   "source": [
    "m = 1000\n",
    "N = 150; eps = 10; gamma = 2\n",
    "\n",
    "x = np.zeros((m,2)); RT = np.zeros(4)\n",
    "\n",
    "for j in range(10):\n",
    "    for i in range(m):\n",
    "        x[i] = generateData(N)\n",
    "        \n",
    "    RT[0] += RT_EM(x,eps,N,m)\n",
    "    RT[1] += RT_PF(x,eps,N,m)\n",
    "    RT[2] += RT_SPS_g(x,eps,N,m,gamma)\n",
    "    RT[3] += RT_SPS_u(x,eps,N,m,gamma)\n",
    "\n",
    "print(RT/10)"
   ]
  },
  {
   "cell_type": "code",
   "execution_count": null,
   "metadata": {},
   "outputs": [],
   "source": []
  }
 ],
 "metadata": {
  "kernelspec": {
   "display_name": "Python 3",
   "language": "python",
   "name": "python3"
  },
  "language_info": {
   "codemirror_mode": {
    "name": "ipython",
    "version": 3
   },
   "file_extension": ".py",
   "mimetype": "text/x-python",
   "name": "python",
   "nbconvert_exporter": "python",
   "pygments_lexer": "ipython3",
   "version": "3.8.3"
  }
 },
 "nbformat": 4,
 "nbformat_minor": 4
}
